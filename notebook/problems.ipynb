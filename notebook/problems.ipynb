{
 "cells": [
  {
   "cell_type": "markdown",
   "id": "ac622319",
   "metadata": {},
   "source": [
    "# Descriptive statistics problems"
   ]
  },
  {
   "cell_type": "markdown",
   "id": "5e0ab0d5",
   "metadata": {},
   "source": [
    "### Exercise 1\n",
    "\n",
    "We will use NumPy to obtain information to describe statistically.\n",
    "\n",
    "- Generate an array of 100 elements following a normal distribution.\n",
    "- Generate an array of 100 elements following a chi-square distribution with 3 degrees of freedom.\n",
    "- Calculate the main metrics and statistical measures that best describe the two vectors."
   ]
  },
  {
   "cell_type": "code",
   "execution_count": 18,
   "id": "34720ab6",
   "metadata": {},
   "outputs": [
    {
     "name": "stdout",
     "output_type": "stream",
     "text": [
      "Media del array normal: 0.05521192255780321\n",
      "Media del array chi-square: 3.1299911201315007\n",
      "Mediana del array normal: 0.16833380378000284\n",
      "Mediana del array chi-square: 2.180801629052768\n",
      "Moda del array normal: 0.14225904793276425\n",
      "Moda del array chi-square: 3.6019012036402884\n",
      "Rango del array normal: 4.956776895667168\n",
      "Rango del array chi-square: 2.006667059913932\n",
      "Varianza del array normal: 0.8452846171150228\n",
      "Desviación estándar del array normal: 0.9193936138102238\n",
      "Varianza del array chi-square: 8.229251200279528\n",
      "Desviación estándar del array chi-square: 2.8686671470004197\n",
      "Skewness del array normal: -0.37781869680567776\n",
      "Skewness del array chi-square: 1.517863859620542\n",
      "Normal kurtosis: -0.009732573151385981\n",
      "Chi kurtosis: 1.9161027172693226\n"
     ]
    }
   ],
   "source": [
    "# TODO\n",
    "import numpy as np\n",
    "import statistics as stats\n",
    "from scipy.stats import skew, kurtosis\n",
    "\n",
    "array_normal = np.random.normal(size =100)\n",
    "array_chi = np.random.chisquare(3,size=100)\n",
    "\n",
    "mean_n = stats.mean(array_normal)\n",
    "print(f\"Media del array normal: {mean_n}\")\n",
    "mean_chi = stats.mean(array_chi)\n",
    "print(f\"Media del array chi-square: {mean_chi}\")\n",
    "\n",
    "median_n = stats.median(array_normal)\n",
    "print(f\"Mediana del array normal: {median_n}\")\n",
    "median_chi = stats.median(array_chi)\n",
    "print(f\"Mediana del array chi-square: {median_chi}\")\n",
    "      \n",
    "mode_n = stats.mode(array_normal)\n",
    "print(f\"Moda del array normal: {mode_n}\")\n",
    "mode_chi = stats.mode(array_chi)\n",
    "print(f\"Moda del array chi-square: {mode_chi}\")\n",
    "\n",
    "range_n = max(array_normal) - min(array_normal)\n",
    "print(f\"Rango del array normal: {range_n}\")\n",
    "range_chi = max(array_normal) - min(array_chi)\n",
    "print(f\"Rango del array chi-square: {range_chi}\")\n",
    "\n",
    "variance_n = stats.variance(array_normal)\n",
    "std_n = stats.stdev(array_normal)\n",
    "print(f\"Varianza del array normal: {variance_n}\")\n",
    "print(f\"Desviación estándar del array normal: {std_n}\")\n",
    "variance_chi = stats.variance(array_chi)\n",
    "std_chi = stats.stdev(array_chi)\n",
    "print(f\"Varianza del array chi-square: {variance_chi}\")\n",
    "print(f\"Desviación estándar del array chi-square: {std_chi}\")\n",
    "\n",
    "skew_n = skew(array_normal)\n",
    "skew_chi = skew(array_chi)\n",
    "print(f\"Skewness del array normal: {skew_n}\")\n",
    "print(f\"Skewness del array chi-square: {skew_chi}\")\n",
    "\n",
    "kurt_n = kurtosis(array_normal)\n",
    "kurt_chi = kurtosis(array_chi)\n",
    "print(f\"Normal kurtosis: {kurt_n}\")\n",
    "print(f\"Chi kurtosis: {kurt_chi}\")\n",
    "\n",
    "\n",
    "\n"
   ]
  },
  {
   "cell_type": "markdown",
   "id": "46c70c3d",
   "metadata": {},
   "source": [
    "### Exercise 2\n",
    "\n",
    "Write a Python program to calculate the standard deviation of the following data:\n",
    "\n",
    "```py\n",
    "data = [4, 2, 5, 8, 6]\n",
    "```"
   ]
  },
  {
   "cell_type": "code",
   "execution_count": null,
   "id": "d590308e",
   "metadata": {},
   "outputs": [
    {
     "name": "stdout",
     "output_type": "stream",
     "text": [
      "2.23606797749979\n"
     ]
    }
   ],
   "source": [
    "# TODO\n",
    "from math import sqrt\n",
    "\n",
    "data = [4, 2, 5, 8, 6]\n",
    "#Pasos : 1. Primero calcular la media \n",
    "# 2. Calcular la diferencia entre cada dato y la media y elevarlo al cuadrado \n",
    "# 3. Sumar los valores de las diferencias elevadas al cuadrado -> dividir entre el numero de datos -1 = varianza\n",
    "# 4. Calcular la raiz cuadrada de la varianza\n",
    "\n",
    "# Funcion que calcula la desviacion estandar\n",
    "def std(datos):  \n",
    "    suma = 0\n",
    "    # 1. Calcular la media \n",
    "    media = sum(datos) / len(datos)\n",
    "    # 2. Para cada dato calcular la diferencia respecto a la media, elevarla al cuadrado y sumarla\n",
    "    for dato in datos:\n",
    "        suma+= (dato - media) ** 2\n",
    "    # 3. Dividir la suma entre n de datos  - 1 para obtener la varianza.\n",
    "    varianza = suma / (len(datos) -1)\n",
    "    # 4 . Calcular la raiz cuadrada de la varianza usando sqrt \n",
    "    return sqrt(varianza)\n",
    "\n",
    "\n",
    "\n",
    "print(std(data))\n",
    "      \n"
   ]
  }
 ],
 "metadata": {
  "kernelspec": {
   "display_name": "Python 3",
   "language": "python",
   "name": "python3"
  },
  "language_info": {
   "codemirror_mode": {
    "name": "ipython",
    "version": 3
   },
   "file_extension": ".py",
   "mimetype": "text/x-python",
   "name": "python",
   "nbconvert_exporter": "python",
   "pygments_lexer": "ipython3",
   "version": "3.11.4"
  }
 },
 "nbformat": 4,
 "nbformat_minor": 5
}
